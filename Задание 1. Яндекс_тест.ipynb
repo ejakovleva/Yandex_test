{
 "cells": [
  {
   "cell_type": "markdown",
   "metadata": {},
   "source": [
    "#### Создание функции для расчета количества одинаковых наборов"
   ]
  },
  {
   "cell_type": "code",
   "execution_count": 1,
   "metadata": {},
   "outputs": [],
   "source": [
    "def number_of_candies_set(candies_list):\n",
    "    candies_unique = list(set(candies_list))\n",
    "    # находим минимальное количество конфет из существующих видов конфет в исходном списке\n",
    "    count_list = []\n",
    "    for i in candies_unique:\n",
    "        j = candies_list.count(i)\n",
    "        count_list.append(j)\n",
    "    min_candies = min(count_list)\n",
    "\n",
    "    # создание двумерного списка из исходного списка с группировкой по видам конфет\n",
    "    new_candies_list = [[] for _ in range(len(candies_unique))]\n",
    "    for i, e in enumerate(new_candies_list):\n",
    "        new_candies_list[i].append(candies_unique[i])\n",
    "        new_candies_list[i] = new_candies_list[i] * candies_list.count(e[0])\n",
    "\n",
    "    # создание списка оставшихся конфет при условии, что вначале создаем набор\n",
    "    # исходя из минимального количества конфет из тех видов конфет, что есть в списке\n",
    "    # то есть, например минимальное количество конфет имеет вид 'а', состоящий из 3-х конфет.\n",
    "    # соответственно вначале мы можем рассчитывать на создание 3х одинаковых наборов,\n",
    "    # поскольку каждой конфете \"а\" мы можем подобрать как минимум одну конфету из других видов конфет,\n",
    "    # потому что их больше. После сопоставления каждой кофете \"а\" конфеты из другого вида\n",
    "    # остаются нераспределенные конфеты, список которых я формирую в следующей итерации:\n",
    "    remaining_candies_list = new_candies_list\n",
    "\n",
    "    for i, j in enumerate(remaining_candies_list):\n",
    "        del remaining_candies_list[i][0:min_candies]\n",
    "\n",
    "    for i in remaining_candies_list:\n",
    "        if i == []:\n",
    "            remaining_candies_list.remove(i)\n",
    "    print(f'Оставшийся список конфет после первоначального распределения в наборы: {remaining_candies_list}')\n",
    "\n",
    "    # Рассчитываем количество оставшихся конфет каждого вида. Если количество оставшихся конфет без остатка делится\n",
    "    # на уже созданное количество наборов, то мы эти конфеты можем распределить одинаково в эти наборы. Если нет,\n",
    "    # то максимальное количество одинковых наборов, которые можно создать, будет равно 1\n",
    "    remaining_candies_qty = []\n",
    "    for i in remaining_candies_list:\n",
    "        remaining_candies_qty.append(len(i) % min_candies)\n",
    "\n",
    "    if max(remaining_candies_qty) != 0:\n",
    "        return f'Максимальное количеcтво одинаковых наборов: {1}'\n",
    "    else:\n",
    "        return f'Максимальное количеcтво одинаковых наборов: {min_candies}'"
   ]
  },
  {
   "cell_type": "markdown",
   "metadata": {},
   "source": [
    "#### Расчет количества одинаковых наборов"
   ]
  },
  {
   "cell_type": "code",
   "execution_count": 2,
   "metadata": {},
   "outputs": [],
   "source": [
    "candies_list_1 = ['a', 'a', 'a', 'b', 'b', 'b', 'b', 'c', 'c', 'c', 'c', 'c']\n",
    "candies_list_2 = ['a', 'b', 'c', 'a', 'b', 'c', 'c', 'c']"
   ]
  },
  {
   "cell_type": "code",
   "execution_count": 3,
   "metadata": {},
   "outputs": [
    {
     "name": "stdout",
     "output_type": "stream",
     "text": [
      "Оставшийся список конфет после первоначального распределения в наборы: [['b'], ['c', 'c']]\n",
      "Максимальное количеcтво одинаковых наборов: 1\n"
     ]
    }
   ],
   "source": [
    "print(number_of_candies_set(candies_list_1))"
   ]
  },
  {
   "cell_type": "code",
   "execution_count": 4,
   "metadata": {},
   "outputs": [
    {
     "name": "stdout",
     "output_type": "stream",
     "text": [
      "Оставшийся список конфет после первоначального распределения в наборы: [[], ['c', 'c']]\n",
      "Максимальное количеcтво одинаковых наборов: 2\n"
     ]
    }
   ],
   "source": [
    "print(number_of_candies_set(candies_list_2))"
   ]
  },
  {
   "cell_type": "code",
   "execution_count": null,
   "metadata": {},
   "outputs": [],
   "source": []
  }
 ],
 "metadata": {
  "kernelspec": {
   "display_name": "Python 3",
   "language": "python",
   "name": "python3"
  },
  "language_info": {
   "codemirror_mode": {
    "name": "ipython",
    "version": 3
   },
   "file_extension": ".py",
   "mimetype": "text/x-python",
   "name": "python",
   "nbconvert_exporter": "python",
   "pygments_lexer": "ipython3",
   "version": "3.8.5"
  }
 },
 "nbformat": 4,
 "nbformat_minor": 4
}
